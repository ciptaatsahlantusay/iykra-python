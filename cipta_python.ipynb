{
  "nbformat": 4,
  "nbformat_minor": 0,
  "metadata": {
    "colab": {
      "name": "cipta-python.ipynb",
      "provenance": [],
      "collapsed_sections": []
    },
    "kernelspec": {
      "name": "python3",
      "display_name": "Python 3"
    },
    "language_info": {
      "name": "python"
    }
  },
  "cells": [
    {
      "cell_type": "code",
      "metadata": {
        "colab": {
          "base_uri": "https://localhost:8080/"
        },
        "id": "d0vqewIfuJCy",
        "outputId": "14bfb93d-e9e3-4428-dbe2-1bf728fd51e9"
      },
      "source": [
        "\"\"\" File database \"\"\"\n",
        "from google.colab import drive\n",
        "drive.mount('/content/drive')\n",
        "pathdb = \"/content/drive/My Drive/Colab Notebooks/iykra.db\"\n",
        "path_dataset_a = \"/content/drive/My Drive/Colab Notebooks/datasetA.csv\"\n",
        "path_dataset_b = \"/content/drive/My Drive/Colab Notebooks/dataset2.csv\"\n",
        "path_dataset_c = \"/content/drive/My Drive/Colab Notebooks/dataset3.json\"\n"
      ],
      "execution_count": 69,
      "outputs": [
        {
          "output_type": "stream",
          "text": [
            "Drive already mounted at /content/drive; to attempt to forcibly remount, call drive.mount(\"/content/drive\", force_remount=True).\n"
          ],
          "name": "stdout"
        }
      ]
    },
    {
      "cell_type": "code",
      "metadata": {
        "id": "prh29iwhYAMw"
      },
      "source": [
        "import csv\n",
        "import json\n",
        "import sqlite3\n",
        "import pandas as pd \n",
        "from sqlite3 import Error"
      ],
      "execution_count": 222,
      "outputs": []
    },
    {
      "cell_type": "code",
      "metadata": {
        "id": "SdORQJ_-YPLy"
      },
      "source": [
        "class IYKRA(): \n",
        "    conn = None\n",
        "\n",
        "    def __init__(self,db_file):\n",
        "        \n",
        "        try:\n",
        "            self.conn = sqlite3.connect(db_file)\n",
        "            print(sqlite3.version)\n",
        "        except Exception as e:\n",
        "            print(e)\n",
        "        \n",
        "    def read_csv(self,fname):\n",
        "        file = open(fname)\n",
        "        data = csv.reader(file, delimiter=';')\n",
        "        next(data)\n",
        "        return data\n",
        "\n",
        "    def read_json(self,fname):\n",
        "        file = open(fname)\n",
        "        raw = json.load(file)\n",
        "        data = []\n",
        "        for i in range(len(raw)):\n",
        "            data.append(raw[i])\n",
        "        return data\n",
        "\n",
        "    def create_table(self, create_table_sql):\n",
        "        \"\"\" create a table from the create_table_sql statement\n",
        "            :param conn: Connection object\n",
        "            :param create_table_sql: a CREATE TABLE statement\n",
        "            :return:\n",
        "        \"\"\"\n",
        "        try:\n",
        "            self.conn.execute(f'\\'{create_table_sql}\\'')\n",
        "        except Exception as e:\n",
        "            print(e)\n",
        "        else:\n",
        "            self.conn.commit()\n",
        "            print(\"success\")\n",
        "            \n",
        "\n",
        "    def insert_data(self, insert_sql):\n",
        "        try:\n",
        "            self.conn.execute(insert_sql)\n",
        "        except Exception as e:\n",
        "            print(e)\n",
        "        else:\n",
        "            self.conn.commit()\n",
        "            print(\"success\")\n",
        "        \n",
        "    \n",
        "    def show_data(self, show_qry):\n",
        "        try:\n",
        "            data_row = self.conn.execute(show_qry)\n",
        "        except Exception as e:\n",
        "            print(e)\n",
        "        else:\n",
        "            return data_row\n",
        "\n",
        "    def convert_to_sql(self,params):\n",
        "        col = ''\n",
        "        for i in range(len(params[\"columns\"])):\n",
        "            for kolom in params['columns'][i].values():\n",
        "                col += f\"{kolom} \"\n",
        "            if i < (len(params[\"columns\"])-1):\n",
        "                col += ','\n",
        "\n",
        "        qry = f\"CREATE TABLE IF NOT EXISTS {params['table_name']} ({col})\"\n",
        "        return qry\n",
        "\n"
      ],
      "execution_count": 176,
      "outputs": []
    },
    {
      "cell_type": "code",
      "metadata": {
        "colab": {
          "base_uri": "https://localhost:8080/"
        },
        "id": "ggco6OQCZyE_",
        "outputId": "abba3d0d-5ddd-4c77-8edb-b4d3f105b019"
      },
      "source": [
        "\"\"\" create instance \"\"\"\n",
        "latihan = IYKRA(pathdb)"
      ],
      "execution_count": 177,
      "outputs": [
        {
          "output_type": "stream",
          "text": [
            "2.6.0\n"
          ],
          "name": "stdout"
        }
      ]
    },
    {
      "cell_type": "markdown",
      "metadata": {
        "id": "lhy4k0IFjrtP"
      },
      "source": [
        "**SOAL PERTAMA**"
      ]
    },
    {
      "cell_type": "code",
      "metadata": {
        "id": "6B7Ch8VHvbWu"
      },
      "source": [
        "\"\"\" DATASET A\"\"\"\n",
        "params = {\n",
        "    \"table_name\" : \"transactions\",\n",
        "    \"columns\" : [\n",
        "                 {\n",
        "                     \"name\" : \"id\",\n",
        "                     \"type\" : \"UUID\"\n",
        "                 },\n",
        "                 {\n",
        "                     \"name\" : \"insert_time\",\n",
        "                     \"type\" : \"TIMESTAMP\"\n",
        "                 },\n",
        "                 {\n",
        "                     \"name\" : \"tx_amount\",\n",
        "                     \"type\" : \"FLOAT\"\n",
        "                 },\n",
        "                 {\n",
        "                     \"name\" : \"tx_type\",\n",
        "                     \"type\" : \"STRING\"\n",
        "                 },\n",
        "                 {\n",
        "                     \"name\" : \"status\",\n",
        "                     \"type\" : \"STRING\"\n",
        "                 }\n",
        "    ]\n",
        "}"
      ],
      "execution_count": 12,
      "outputs": []
    },
    {
      "cell_type": "code",
      "metadata": {
        "colab": {
          "base_uri": "https://localhost:8080/"
        },
        "id": "FlgrlEsJx84g",
        "outputId": "21f0ebae-e30f-4164-edf6-24272d9f40f9"
      },
      "source": [
        "\"\"\" create table Dataset A\"\"\"\n",
        "latihan.create_table(latihan.convert_to_sql(params))    "
      ],
      "execution_count": 138,
      "outputs": [
        {
          "output_type": "stream",
          "text": [
            "success\n"
          ],
          "name": "stdout"
        }
      ]
    },
    {
      "cell_type": "code",
      "metadata": {
        "id": "-UqEF7aEcEDa"
      },
      "source": [
        "\"\"\" read data Dataset A\"\"\"\n",
        "datasetA = latihan.read_csv(path_dataset_a)"
      ],
      "execution_count": 148,
      "outputs": []
    },
    {
      "cell_type": "code",
      "metadata": {
        "colab": {
          "base_uri": "https://localhost:8080/"
        },
        "id": "CjX8ElPsXqVV",
        "outputId": "54b516fd-79d0-43e1-ce9b-f854857bdc33"
      },
      "source": [
        "\"\"\"INSERTA DATA PARAMA\"\"\"\n",
        "qry = \"\"\n",
        "for dataA in datasetA:\n",
        "    qry = f\"INSERT INTO transactions (id, insert_time, tx_amount, tx_type, status) VALUES ('{dataA[0]}','{dataA[1]}','{dataA[2]}','{dataA[3]}','{dataA[4]}')\"\n",
        "    print(qry)\n",
        "    latihan.insert_data(qry)"
      ],
      "execution_count": 149,
      "outputs": [
        {
          "output_type": "stream",
          "text": [
            "INSERT INTO transactions (id, insert_time, tx_amount, tx_type, status) VALUES ('1','2020-08-03','32000','buy','close')\n",
            "success\n",
            "INSERT INTO transactions (id, insert_time, tx_amount, tx_type, status) VALUES ('5','2020-08-04','1200','buy','open')\n",
            "success\n",
            "INSERT INTO transactions (id, insert_time, tx_amount, tx_type, status) VALUES ('2','2020-08-05','27600','buy','open')\n",
            "success\n",
            "INSERT INTO transactions (id, insert_time, tx_amount, tx_type, status) VALUES ('3','2020-08-06','32000','buy','open')\n",
            "success\n",
            "INSERT INTO transactions (id, insert_time, tx_amount, tx_type, status) VALUES ('4','2020-08-01','2000','buy','open')\n",
            "success\n",
            "INSERT INTO transactions (id, insert_time, tx_amount, tx_type, status) VALUES ('2','2020-08-11','45400','buy','close')\n",
            "success\n",
            "INSERT INTO transactions (id, insert_time, tx_amount, tx_type, status) VALUES ('3','2020-08-09','76000','buy','close')\n",
            "success\n",
            "INSERT INTO transactions (id, insert_time, tx_amount, tx_type, status) VALUES ('5','2020-08-10','87900','buy','close')\n",
            "success\n",
            "INSERT INTO transactions (id, insert_time, tx_amount, tx_type, status) VALUES ('6','2020-08-20','89990','buy','open')\n",
            "success\n"
          ],
          "name": "stdout"
        }
      ]
    },
    {
      "cell_type": "code",
      "metadata": {
        "colab": {
          "base_uri": "https://localhost:8080/"
        },
        "id": "vVpSrhEtgRge",
        "outputId": "5754d19d-2896-4cd1-aa4b-da2b69232a8d"
      },
      "source": [
        "\"\"\" show table Dataset A\"\"\"\n",
        "qry = \" SELECT * from transactions group by id having max(insert_time) \"\n",
        "rows = latihan.show_data(qry)\n",
        "for row in rows:\n",
        "    print(row)"
      ],
      "execution_count": 151,
      "outputs": [
        {
          "output_type": "stream",
          "text": [
            "(1, '2020-08-03', 32000.0, 'buy', 'close')\n",
            "(2, '2020-08-11', 45400.0, 'buy', 'close')\n",
            "(3, '2020-08-09', 76000.0, 'buy', 'close')\n",
            "(4, '2020-08-01', 2000.0, 'buy', 'open')\n",
            "(5, '2020-08-10', 87900.0, 'buy', 'close')\n",
            "(6, '2020-08-20', 89990.0, 'buy', 'open')\n"
          ],
          "name": "stdout"
        }
      ]
    },
    {
      "cell_type": "markdown",
      "metadata": {
        "id": "9vQ5l63UjvtX"
      },
      "source": [
        "**SOAL KEDUA**"
      ]
    },
    {
      "cell_type": "code",
      "metadata": {
        "id": "G-CTdl-Ejpmp"
      },
      "source": [
        "\"\"\" DATASET B\"\"\"\n",
        "params = {\n",
        "    \"table_name\" : \"sales\",\n",
        "    \"columns\" : [\n",
        "                 {\n",
        "                     \"name\" : \"insert_time\",\n",
        "                     \"type\" : \"TIMESTAMP\"\n",
        "                 },\n",
        "                 {\n",
        "                     \"name\" : \"total\",\n",
        "                     \"type\" : \"FLOAT\"\n",
        "                 }\n",
        "    ]\n",
        "}"
      ],
      "execution_count": 163,
      "outputs": []
    },
    {
      "cell_type": "code",
      "metadata": {
        "colab": {
          "base_uri": "https://localhost:8080/"
        },
        "id": "Mo1huhwMkTBD",
        "outputId": "8a255dca-dc1c-45b7-b6e7-27c40732bbc5"
      },
      "source": [
        "\"\"\" create table Dataset B\"\"\"\n",
        "latihan.create_table(latihan.convert_to_sql(params))  "
      ],
      "execution_count": 158,
      "outputs": [
        {
          "output_type": "stream",
          "text": [
            "success\n"
          ],
          "name": "stdout"
        }
      ]
    },
    {
      "cell_type": "code",
      "metadata": {
        "id": "cdZnRtefkdWC"
      },
      "source": [
        "\"\"\" read data Dataset A\"\"\"\n",
        "datasetB = latihan.read_csv(path_dataset_b)"
      ],
      "execution_count": 167,
      "outputs": []
    },
    {
      "cell_type": "code",
      "metadata": {
        "colab": {
          "base_uri": "https://localhost:8080/"
        },
        "id": "paqXrmCukkjB",
        "outputId": "80fae90c-112d-44c7-8526-8a77e65b3f36"
      },
      "source": [
        "\"\"\"INSERTA DATA PARAMA\"\"\"\n",
        "qry = \"\"\n",
        "for dataB in datasetB:\n",
        "    qry = f\"INSERT INTO sales (insert_time, total) VALUES ('{dataB[0]}','{dataB[1]}')\"\n",
        "    print(qry)\n",
        "    latihan.insert_data(qry)"
      ],
      "execution_count": 168,
      "outputs": [
        {
          "output_type": "stream",
          "text": [
            "INSERT INTO sales (insert_time, total) VALUES ('02/07/20','2000')\n",
            "success\n",
            "INSERT INTO sales (insert_time, total) VALUES ('02/07/20','5000')\n",
            "success\n",
            "INSERT INTO sales (insert_time, total) VALUES ('04/07/20','7000')\n",
            "success\n",
            "INSERT INTO sales (insert_time, total) VALUES ('04/07/20','6000')\n",
            "success\n",
            "INSERT INTO sales (insert_time, total) VALUES ('06/07/20','8000')\n",
            "success\n",
            "INSERT INTO sales (insert_time, total) VALUES ('07/07/20','13000')\n",
            "success\n",
            "INSERT INTO sales (insert_time, total) VALUES ('08/07/20','5000')\n",
            "success\n",
            "INSERT INTO sales (insert_time, total) VALUES ('08/07/20','76000')\n",
            "success\n",
            "INSERT INTO sales (insert_time, total) VALUES ('08/07/20','56000')\n",
            "success\n",
            "INSERT INTO sales (insert_time, total) VALUES ('11/07/20','2000')\n",
            "success\n",
            "INSERT INTO sales (insert_time, total) VALUES ('12/07/20','45000')\n",
            "success\n",
            "INSERT INTO sales (insert_time, total) VALUES ('13/07/20','78900')\n",
            "success\n",
            "INSERT INTO sales (insert_time, total) VALUES ('13/07/20','12000')\n",
            "success\n",
            "INSERT INTO sales (insert_time, total) VALUES ('13/07/20','37000')\n",
            "success\n",
            "INSERT INTO sales (insert_time, total) VALUES ('13/07/20','9800')\n",
            "success\n",
            "INSERT INTO sales (insert_time, total) VALUES ('17/07/20','10000')\n",
            "success\n",
            "INSERT INTO sales (insert_time, total) VALUES ('18/07/20','7600')\n",
            "success\n",
            "INSERT INTO sales (insert_time, total) VALUES ('19/07/20','2500')\n",
            "success\n"
          ],
          "name": "stdout"
        }
      ]
    },
    {
      "cell_type": "code",
      "metadata": {
        "colab": {
          "base_uri": "https://localhost:8080/"
        },
        "id": "3IkZgzl_lHcS",
        "outputId": "e0b364dd-e622-469d-89ff-74c979e8d62c"
      },
      "source": [
        "\"\"\" show table Dataset A\"\"\"\n",
        "qry = \" SELECT insert_time as date,sum(total) as totalsale from sales group by insert_time \"\n",
        "rows = latihan.show_data(qry)\n",
        "for row in rows:\n",
        "    print(row)"
      ],
      "execution_count": 172,
      "outputs": [
        {
          "output_type": "stream",
          "text": [
            "('02/07/20', 7000.0)\n",
            "('04/07/20', 13000.0)\n",
            "('06/07/20', 8000.0)\n",
            "('07/07/20', 13000.0)\n",
            "('08/07/20', 137000.0)\n",
            "('11/07/20', 2000.0)\n",
            "('12/07/20', 45000.0)\n",
            "('13/07/20', 137700.0)\n",
            "('17/07/20', 10000.0)\n",
            "('18/07/20', 7600.0)\n",
            "('19/07/20', 2500.0)\n"
          ],
          "name": "stdout"
        }
      ]
    },
    {
      "cell_type": "markdown",
      "metadata": {
        "id": "qW4GeNnLm5Mn"
      },
      "source": [
        "**SOAL 3**"
      ]
    },
    {
      "cell_type": "code",
      "metadata": {
        "id": "yVldF2yNm7Qp"
      },
      "source": [
        "\"\"\" read json file \"\"\"\n",
        "datas = latihan.read_json(path_dataset_c)"
      ],
      "execution_count": 187,
      "outputs": []
    },
    {
      "cell_type": "code",
      "metadata": {
        "id": "MsirOrv5nMQC"
      },
      "source": [
        "\"\"\" soal 1 \"\"\"\n",
        "user_id = []\n",
        "txs_id = []\n",
        "for i in range(len(datas)):\n",
        "    for j in range(len(datas[i]['txs'])):\n",
        "        user_id.append(datas[i]['user']['id'])\n",
        "        txs_id.append(datas[i]['txs'][j]['id'])\n",
        "\n",
        "data_dict1 = {'user_id':user_id,'txs_id':txs_id}\n",
        "df = pd.DataFrame(data_dict1) \n",
        "\n",
        "# saving the dataframe \n",
        "df.to_csv('/content/drive/My Drive/Colab Notebooks/soal1.csv') "
      ],
      "execution_count": 233,
      "outputs": []
    },
    {
      "cell_type": "code",
      "metadata": {
        "colab": {
          "base_uri": "https://localhost:8080/",
          "height": 238
        },
        "id": "l6TpnR6wIcaL",
        "outputId": "f80d73d9-66c8-4e27-face-827ee022deb3"
      },
      "source": [
        "df"
      ],
      "execution_count": 234,
      "outputs": [
        {
          "output_type": "execute_result",
          "data": {
            "text/html": [
              "<div>\n",
              "<style scoped>\n",
              "    .dataframe tbody tr th:only-of-type {\n",
              "        vertical-align: middle;\n",
              "    }\n",
              "\n",
              "    .dataframe tbody tr th {\n",
              "        vertical-align: top;\n",
              "    }\n",
              "\n",
              "    .dataframe thead th {\n",
              "        text-align: right;\n",
              "    }\n",
              "</style>\n",
              "<table border=\"1\" class=\"dataframe\">\n",
              "  <thead>\n",
              "    <tr style=\"text-align: right;\">\n",
              "      <th></th>\n",
              "      <th>user_id</th>\n",
              "      <th>txs_id</th>\n",
              "    </tr>\n",
              "  </thead>\n",
              "  <tbody>\n",
              "    <tr>\n",
              "      <th>0</th>\n",
              "      <td>1</td>\n",
              "      <td>1</td>\n",
              "    </tr>\n",
              "    <tr>\n",
              "      <th>1</th>\n",
              "      <td>1</td>\n",
              "      <td>3</td>\n",
              "    </tr>\n",
              "    <tr>\n",
              "      <th>2</th>\n",
              "      <td>1</td>\n",
              "      <td>5</td>\n",
              "    </tr>\n",
              "    <tr>\n",
              "      <th>3</th>\n",
              "      <td>2</td>\n",
              "      <td>2</td>\n",
              "    </tr>\n",
              "    <tr>\n",
              "      <th>4</th>\n",
              "      <td>2</td>\n",
              "      <td>4</td>\n",
              "    </tr>\n",
              "    <tr>\n",
              "      <th>5</th>\n",
              "      <td>2</td>\n",
              "      <td>6</td>\n",
              "    </tr>\n",
              "  </tbody>\n",
              "</table>\n",
              "</div>"
            ],
            "text/plain": [
              "   user_id  txs_id\n",
              "0        1       1\n",
              "1        1       3\n",
              "2        1       5\n",
              "3        2       2\n",
              "4        2       4\n",
              "5        2       6"
            ]
          },
          "metadata": {
            "tags": []
          },
          "execution_count": 234
        }
      ]
    },
    {
      "cell_type": "code",
      "metadata": {
        "id": "ZuI5j7w5BJog"
      },
      "source": [
        "\"\"\" soal 2 \"\"\"\n",
        "user_id = []\n",
        "name = []\n",
        "email = []\n",
        "\n",
        "for i in range(len(datas)):\n",
        "    user_id.append(datas[i]['user']['id'])\n",
        "    name.append(datas[i]['user']['name'])\n",
        "    email.append(datas[i]['user']['email'])\n",
        "    \n",
        "data_dict2 = {'user_id':user_id,'name':name,'email':email}\n",
        "df = pd.DataFrame(data_dict2) \n",
        "\n",
        "# saving the dataframe \n",
        "df.to_csv('/content/drive/My Drive/Colab Notebooks/soal2.csv') "
      ],
      "execution_count": 235,
      "outputs": []
    },
    {
      "cell_type": "code",
      "metadata": {
        "colab": {
          "base_uri": "https://localhost:8080/",
          "height": 112
        },
        "id": "nt-MrWUuIZqV",
        "outputId": "2c84eaad-b8a6-4c1b-a687-f0eec91cbdc5"
      },
      "source": [
        "df"
      ],
      "execution_count": 236,
      "outputs": [
        {
          "output_type": "execute_result",
          "data": {
            "text/html": [
              "<div>\n",
              "<style scoped>\n",
              "    .dataframe tbody tr th:only-of-type {\n",
              "        vertical-align: middle;\n",
              "    }\n",
              "\n",
              "    .dataframe tbody tr th {\n",
              "        vertical-align: top;\n",
              "    }\n",
              "\n",
              "    .dataframe thead th {\n",
              "        text-align: right;\n",
              "    }\n",
              "</style>\n",
              "<table border=\"1\" class=\"dataframe\">\n",
              "  <thead>\n",
              "    <tr style=\"text-align: right;\">\n",
              "      <th></th>\n",
              "      <th>user_id</th>\n",
              "      <th>name</th>\n",
              "      <th>email</th>\n",
              "    </tr>\n",
              "  </thead>\n",
              "  <tbody>\n",
              "    <tr>\n",
              "      <th>0</th>\n",
              "      <td>1</td>\n",
              "      <td>agus</td>\n",
              "      <td>agus@example.com</td>\n",
              "    </tr>\n",
              "    <tr>\n",
              "      <th>1</th>\n",
              "      <td>2</td>\n",
              "      <td>asep</td>\n",
              "      <td>asep@example.com</td>\n",
              "    </tr>\n",
              "  </tbody>\n",
              "</table>\n",
              "</div>"
            ],
            "text/plain": [
              "   user_id  name             email\n",
              "0        1  agus  agus@example.com\n",
              "1        2  asep  asep@example.com"
            ]
          },
          "metadata": {
            "tags": []
          },
          "execution_count": 236
        }
      ]
    },
    {
      "cell_type": "code",
      "metadata": {
        "id": "fdp9bGwmIjs4"
      },
      "source": [
        "\"\"\" soal 3 \"\"\"\n",
        "txs_id = []\n",
        "txs_date = []\n",
        "txs_amount = []\n",
        "txs_type = []\n",
        "\n",
        "for i in range(len(datas)):\n",
        "    for j in range(len(datas[i]['txs'])):\n",
        "        txs_id.append(datas[i]['txs'][j]['id'])\n",
        "        txs_date.append(datas[i]['txs'][j]['tx_date'])\n",
        "        txs_amount.append(datas[i]['txs'][j]['tx_amount'])\n",
        "        txs_type.append(datas[i]['txs'][j]['tx_type'])\n",
        "    \n",
        "data_dict3 = {'txs_id':txs_id,'txs_date':txs_date,'txs_amount':txs_amount,'txs_type':txs_type}\n",
        "df = pd.DataFrame(data_dict3) \n",
        "\n",
        "# saving the dataframe \n",
        "df.to_csv('/content/drive/My Drive/Colab Notebooks/soal3.csv') "
      ],
      "execution_count": 239,
      "outputs": []
    },
    {
      "cell_type": "code",
      "metadata": {
        "colab": {
          "base_uri": "https://localhost:8080/",
          "height": 238
        },
        "id": "Onz057BMJnbn",
        "outputId": "b7b59b39-916c-46a0-b21a-373bc007d7f6"
      },
      "source": [
        "df"
      ],
      "execution_count": 240,
      "outputs": [
        {
          "output_type": "execute_result",
          "data": {
            "text/html": [
              "<div>\n",
              "<style scoped>\n",
              "    .dataframe tbody tr th:only-of-type {\n",
              "        vertical-align: middle;\n",
              "    }\n",
              "\n",
              "    .dataframe tbody tr th {\n",
              "        vertical-align: top;\n",
              "    }\n",
              "\n",
              "    .dataframe thead th {\n",
              "        text-align: right;\n",
              "    }\n",
              "</style>\n",
              "<table border=\"1\" class=\"dataframe\">\n",
              "  <thead>\n",
              "    <tr style=\"text-align: right;\">\n",
              "      <th></th>\n",
              "      <th>txs_id</th>\n",
              "      <th>txs_date</th>\n",
              "      <th>txs_amount</th>\n",
              "      <th>txs_type</th>\n",
              "    </tr>\n",
              "  </thead>\n",
              "  <tbody>\n",
              "    <tr>\n",
              "      <th>0</th>\n",
              "      <td>1</td>\n",
              "      <td>2020-01-01</td>\n",
              "      <td>10</td>\n",
              "      <td>buy</td>\n",
              "    </tr>\n",
              "    <tr>\n",
              "      <th>1</th>\n",
              "      <td>3</td>\n",
              "      <td>2020-02-01</td>\n",
              "      <td>10</td>\n",
              "      <td>buy</td>\n",
              "    </tr>\n",
              "    <tr>\n",
              "      <th>2</th>\n",
              "      <td>5</td>\n",
              "      <td>2020-03-01</td>\n",
              "      <td>20</td>\n",
              "      <td>sell</td>\n",
              "    </tr>\n",
              "    <tr>\n",
              "      <th>3</th>\n",
              "      <td>2</td>\n",
              "      <td>2020-01-01</td>\n",
              "      <td>10</td>\n",
              "      <td>sell</td>\n",
              "    </tr>\n",
              "    <tr>\n",
              "      <th>4</th>\n",
              "      <td>4</td>\n",
              "      <td>2020-02-01</td>\n",
              "      <td>10</td>\n",
              "      <td>sell</td>\n",
              "    </tr>\n",
              "    <tr>\n",
              "      <th>5</th>\n",
              "      <td>6</td>\n",
              "      <td>2020-03-01</td>\n",
              "      <td>20</td>\n",
              "      <td>buy</td>\n",
              "    </tr>\n",
              "  </tbody>\n",
              "</table>\n",
              "</div>"
            ],
            "text/plain": [
              "   txs_id    txs_date  txs_amount txs_type\n",
              "0       1  2020-01-01          10      buy\n",
              "1       3  2020-02-01          10      buy\n",
              "2       5  2020-03-01          20     sell\n",
              "3       2  2020-01-01          10     sell\n",
              "4       4  2020-02-01          10     sell\n",
              "5       6  2020-03-01          20      buy"
            ]
          },
          "metadata": {
            "tags": []
          },
          "execution_count": 240
        }
      ]
    }
  ]
}